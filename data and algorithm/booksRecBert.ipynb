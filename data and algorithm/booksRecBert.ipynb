{
  "cells": [
    {
      "cell_type": "markdown",
      "source": [
        "pip install transformers sentence-transformers"
      ],
      "metadata": {
        "id": "jv-pjmnENELY"
      }
    },
    {
      "cell_type": "code",
      "source": [
        "from google.colab import drive\n",
        "\n",
        "drive.mount('/content/gdrive/', force_remount=True)"
      ],
      "metadata": {
        "id": "oGAxzSgun4rf",
        "outputId": "44ae0c26-aa8a-42cf-eb7b-a05f27106e5e",
        "colab": {
          "base_uri": "https://localhost:8080/"
        }
      },
      "execution_count": 1,
      "outputs": [
        {
          "output_type": "stream",
          "name": "stdout",
          "text": [
            "Mounted at /content/gdrive/\n"
          ]
        }
      ]
    },
    {
      "cell_type": "markdown",
      "source": [
        "Bert and TSNE \n",
        "https://github.com/mcelikkaya/medium_articles2/blob/main/bertlda_topic_modeling.ipynb "
      ],
      "metadata": {
        "id": "SIsZEuKeB1E_"
      }
    },
    {
      "cell_type": "code",
      "source": [
        "import torch\n",
        "from transformers import BertTokenizer, BertModel\n",
        "import logging\n",
        "import pandas as pd\n",
        "import matplotlib.pyplot as plt\n",
        "from textwrap import wrap\n",
        "import numpy as np\n",
        "from sklearn.manifold import TSNE\n",
        "from sentence_transformers import SentenceTransformer\n",
        "from sklearn.cluster import KMeans\n",
        "from collections import Counter\n",
        "\n",
        "'''\n",
        "tokenizer = BertTokenizer.from_pretrained('bert-base-uncased')\n",
        "model = BertModel.from_pretrained('bert-base-uncased',\n",
        "                                  output_hidden_states = True, # Whether the model returns all hidden-states.\n",
        "                                  )\n",
        "'''\n",
        "model_bert = SentenceTransformer('bert-base-nli-max-tokens')                             "
      ],
      "metadata": {
        "id": "0Lawuw92M419"
      },
      "execution_count": 115,
      "outputs": []
    },
    {
      "cell_type": "code",
      "source": [
        "df_summary = pd.read_csv(\"/content/gdrive/MyDrive/Group-1-Project/data and algorithm/Book_summary.csv\")\n",
        "df_summary"
      ],
      "metadata": {
        "id": "T2trDyl5oDqF",
        "outputId": "10114a01-001d-4b9f-d3b6-2d9af7bb6902",
        "colab": {
          "base_uri": "https://localhost:8080/",
          "height": 659
        }
      },
      "execution_count": 6,
      "outputs": [
        {
          "output_type": "execute_result",
          "data": {
            "text/plain": [
              "       Unnamed: 0                                         Book-Title  \\\n",
              "0               0                                 A Clockwork Orange   \n",
              "1               1                                 A Clockwork Orange   \n",
              "2               2                                 A Clockwork Orange   \n",
              "3               3                                 A Clockwork Orange   \n",
              "4               4                                 A Clockwork Orange   \n",
              "...           ...                                                ...   \n",
              "13782       13783                                     Remote Control   \n",
              "13783       13784                                     Remote Control   \n",
              "13784       13785  The Simpsons: A Complete Guide to Our Favorite...   \n",
              "13785       13786                                  Transfer of Power   \n",
              "13786       13787                                  Transfer of Power   \n",
              "\n",
              "         Book-Author_x                                       Book-Summary  \\\n",
              "0      Anthony Burgess   Alex, a teenager living in near-future Englan...   \n",
              "1      Anthony Burgess   Alex, a teenager living in near-future Englan...   \n",
              "2      Anthony Burgess   Alex, a teenager living in near-future Englan...   \n",
              "3      Anthony Burgess   Alex, a teenager living in near-future Englan...   \n",
              "4      Anthony Burgess   Alex, a teenager living in near-future Englan...   \n",
              "...                ...                                                ...   \n",
              "13782       Andy McNab   The series follows the character of Nick Ston...   \n",
              "13783       Andy McNab   The series follows the character of Nick Ston...   \n",
              "13784    Matt Groening   {| class=\"wikitable\" |- !Seasons covered !Boo...   \n",
              "13785      Vince Flynn   The reader first meets Rapp while he is doing...   \n",
              "13786      Vince Flynn   The reader first meets Rapp while he is doing...   \n",
              "\n",
              "             ISBN  \n",
              "0      345316413X  \n",
              "1      0749318473  \n",
              "2      0345256328  \n",
              "3      0345273214  \n",
              "4      3453130790  \n",
              "...           ...  \n",
              "13782  0451191692  \n",
              "13783  0345254457  \n",
              "13784  0060952520  \n",
              "13785  0671023209  \n",
              "13786  0743532716  \n",
              "\n",
              "[13787 rows x 5 columns]"
            ],
            "text/html": [
              "\n",
              "  <div id=\"df-d02fc111-2310-49ca-b823-5b32d4579d64\">\n",
              "    <div class=\"colab-df-container\">\n",
              "      <div>\n",
              "<style scoped>\n",
              "    .dataframe tbody tr th:only-of-type {\n",
              "        vertical-align: middle;\n",
              "    }\n",
              "\n",
              "    .dataframe tbody tr th {\n",
              "        vertical-align: top;\n",
              "    }\n",
              "\n",
              "    .dataframe thead th {\n",
              "        text-align: right;\n",
              "    }\n",
              "</style>\n",
              "<table border=\"1\" class=\"dataframe\">\n",
              "  <thead>\n",
              "    <tr style=\"text-align: right;\">\n",
              "      <th></th>\n",
              "      <th>Unnamed: 0</th>\n",
              "      <th>Book-Title</th>\n",
              "      <th>Book-Author_x</th>\n",
              "      <th>Book-Summary</th>\n",
              "      <th>ISBN</th>\n",
              "    </tr>\n",
              "  </thead>\n",
              "  <tbody>\n",
              "    <tr>\n",
              "      <th>0</th>\n",
              "      <td>0</td>\n",
              "      <td>A Clockwork Orange</td>\n",
              "      <td>Anthony Burgess</td>\n",
              "      <td>Alex, a teenager living in near-future Englan...</td>\n",
              "      <td>345316413X</td>\n",
              "    </tr>\n",
              "    <tr>\n",
              "      <th>1</th>\n",
              "      <td>1</td>\n",
              "      <td>A Clockwork Orange</td>\n",
              "      <td>Anthony Burgess</td>\n",
              "      <td>Alex, a teenager living in near-future Englan...</td>\n",
              "      <td>0749318473</td>\n",
              "    </tr>\n",
              "    <tr>\n",
              "      <th>2</th>\n",
              "      <td>2</td>\n",
              "      <td>A Clockwork Orange</td>\n",
              "      <td>Anthony Burgess</td>\n",
              "      <td>Alex, a teenager living in near-future Englan...</td>\n",
              "      <td>0345256328</td>\n",
              "    </tr>\n",
              "    <tr>\n",
              "      <th>3</th>\n",
              "      <td>3</td>\n",
              "      <td>A Clockwork Orange</td>\n",
              "      <td>Anthony Burgess</td>\n",
              "      <td>Alex, a teenager living in near-future Englan...</td>\n",
              "      <td>0345273214</td>\n",
              "    </tr>\n",
              "    <tr>\n",
              "      <th>4</th>\n",
              "      <td>4</td>\n",
              "      <td>A Clockwork Orange</td>\n",
              "      <td>Anthony Burgess</td>\n",
              "      <td>Alex, a teenager living in near-future Englan...</td>\n",
              "      <td>3453130790</td>\n",
              "    </tr>\n",
              "    <tr>\n",
              "      <th>...</th>\n",
              "      <td>...</td>\n",
              "      <td>...</td>\n",
              "      <td>...</td>\n",
              "      <td>...</td>\n",
              "      <td>...</td>\n",
              "    </tr>\n",
              "    <tr>\n",
              "      <th>13782</th>\n",
              "      <td>13783</td>\n",
              "      <td>Remote Control</td>\n",
              "      <td>Andy McNab</td>\n",
              "      <td>The series follows the character of Nick Ston...</td>\n",
              "      <td>0451191692</td>\n",
              "    </tr>\n",
              "    <tr>\n",
              "      <th>13783</th>\n",
              "      <td>13784</td>\n",
              "      <td>Remote Control</td>\n",
              "      <td>Andy McNab</td>\n",
              "      <td>The series follows the character of Nick Ston...</td>\n",
              "      <td>0345254457</td>\n",
              "    </tr>\n",
              "    <tr>\n",
              "      <th>13784</th>\n",
              "      <td>13785</td>\n",
              "      <td>The Simpsons: A Complete Guide to Our Favorite...</td>\n",
              "      <td>Matt Groening</td>\n",
              "      <td>{| class=\"wikitable\" |- !Seasons covered !Boo...</td>\n",
              "      <td>0060952520</td>\n",
              "    </tr>\n",
              "    <tr>\n",
              "      <th>13785</th>\n",
              "      <td>13786</td>\n",
              "      <td>Transfer of Power</td>\n",
              "      <td>Vince Flynn</td>\n",
              "      <td>The reader first meets Rapp while he is doing...</td>\n",
              "      <td>0671023209</td>\n",
              "    </tr>\n",
              "    <tr>\n",
              "      <th>13786</th>\n",
              "      <td>13787</td>\n",
              "      <td>Transfer of Power</td>\n",
              "      <td>Vince Flynn</td>\n",
              "      <td>The reader first meets Rapp while he is doing...</td>\n",
              "      <td>0743532716</td>\n",
              "    </tr>\n",
              "  </tbody>\n",
              "</table>\n",
              "<p>13787 rows × 5 columns</p>\n",
              "</div>\n",
              "      <button class=\"colab-df-convert\" onclick=\"convertToInteractive('df-d02fc111-2310-49ca-b823-5b32d4579d64')\"\n",
              "              title=\"Convert this dataframe to an interactive table.\"\n",
              "              style=\"display:none;\">\n",
              "        \n",
              "  <svg xmlns=\"http://www.w3.org/2000/svg\" height=\"24px\"viewBox=\"0 0 24 24\"\n",
              "       width=\"24px\">\n",
              "    <path d=\"M0 0h24v24H0V0z\" fill=\"none\"/>\n",
              "    <path d=\"M18.56 5.44l.94 2.06.94-2.06 2.06-.94-2.06-.94-.94-2.06-.94 2.06-2.06.94zm-11 1L8.5 8.5l.94-2.06 2.06-.94-2.06-.94L8.5 2.5l-.94 2.06-2.06.94zm10 10l.94 2.06.94-2.06 2.06-.94-2.06-.94-.94-2.06-.94 2.06-2.06.94z\"/><path d=\"M17.41 7.96l-1.37-1.37c-.4-.4-.92-.59-1.43-.59-.52 0-1.04.2-1.43.59L10.3 9.45l-7.72 7.72c-.78.78-.78 2.05 0 2.83L4 21.41c.39.39.9.59 1.41.59.51 0 1.02-.2 1.41-.59l7.78-7.78 2.81-2.81c.8-.78.8-2.07 0-2.86zM5.41 20L4 18.59l7.72-7.72 1.47 1.35L5.41 20z\"/>\n",
              "  </svg>\n",
              "      </button>\n",
              "      \n",
              "  <style>\n",
              "    .colab-df-container {\n",
              "      display:flex;\n",
              "      flex-wrap:wrap;\n",
              "      gap: 12px;\n",
              "    }\n",
              "\n",
              "    .colab-df-convert {\n",
              "      background-color: #E8F0FE;\n",
              "      border: none;\n",
              "      border-radius: 50%;\n",
              "      cursor: pointer;\n",
              "      display: none;\n",
              "      fill: #1967D2;\n",
              "      height: 32px;\n",
              "      padding: 0 0 0 0;\n",
              "      width: 32px;\n",
              "    }\n",
              "\n",
              "    .colab-df-convert:hover {\n",
              "      background-color: #E2EBFA;\n",
              "      box-shadow: 0px 1px 2px rgba(60, 64, 67, 0.3), 0px 1px 3px 1px rgba(60, 64, 67, 0.15);\n",
              "      fill: #174EA6;\n",
              "    }\n",
              "\n",
              "    [theme=dark] .colab-df-convert {\n",
              "      background-color: #3B4455;\n",
              "      fill: #D2E3FC;\n",
              "    }\n",
              "\n",
              "    [theme=dark] .colab-df-convert:hover {\n",
              "      background-color: #434B5C;\n",
              "      box-shadow: 0px 1px 3px 1px rgba(0, 0, 0, 0.15);\n",
              "      filter: drop-shadow(0px 1px 2px rgba(0, 0, 0, 0.3));\n",
              "      fill: #FFFFFF;\n",
              "    }\n",
              "  </style>\n",
              "\n",
              "      <script>\n",
              "        const buttonEl =\n",
              "          document.querySelector('#df-d02fc111-2310-49ca-b823-5b32d4579d64 button.colab-df-convert');\n",
              "        buttonEl.style.display =\n",
              "          google.colab.kernel.accessAllowed ? 'block' : 'none';\n",
              "\n",
              "        async function convertToInteractive(key) {\n",
              "          const element = document.querySelector('#df-d02fc111-2310-49ca-b823-5b32d4579d64');\n",
              "          const dataTable =\n",
              "            await google.colab.kernel.invokeFunction('convertToInteractive',\n",
              "                                                     [key], {});\n",
              "          if (!dataTable) return;\n",
              "\n",
              "          const docLinkHtml = 'Like what you see? Visit the ' +\n",
              "            '<a target=\"_blank\" href=https://colab.research.google.com/notebooks/data_table.ipynb>data table notebook</a>'\n",
              "            + ' to learn more about interactive tables.';\n",
              "          element.innerHTML = '';\n",
              "          dataTable['output_type'] = 'display_data';\n",
              "          await google.colab.output.renderOutput(dataTable, element);\n",
              "          const docLink = document.createElement('div');\n",
              "          docLink.innerHTML = docLinkHtml;\n",
              "          element.appendChild(docLink);\n",
              "        }\n",
              "      </script>\n",
              "    </div>\n",
              "  </div>\n",
              "  "
            ]
          },
          "metadata": {},
          "execution_count": 6
        }
      ]
    },
    {
      "cell_type": "code",
      "source": [
        "def tokenize_text(text):\n",
        "  marked_text = \"[CLS] \" + text + \" [SEP]\"\n",
        "  # Split the sentence into tokens.\n",
        "  tokenized_text = tokenizer.tokenize(marked_text)\n",
        "\n",
        "  # Map the token strings to their vocabulary indeces.\n",
        "  indexed_tokens = tokenizer.convert_tokens_to_ids(tokenized_text)\n",
        "\n",
        "  segments_ids = [1] * len(tokenized_text)\n",
        "\n",
        "  #print(len(tokenized_text), \" in total\")\n",
        "\n",
        "  tokens_tensor = torch.tensor([indexed_tokens])\n",
        "  segments_tensors = torch.tensor([segments_ids])\n",
        "\n",
        "  return tokenized_text, tokens_tensor, segments_tensors"
      ],
      "metadata": {
        "id": "O2hrNAzONSOV"
      },
      "execution_count": 7,
      "outputs": []
    },
    {
      "cell_type": "code",
      "source": [
        "def paragraph_to_vec_2(text):\n",
        "  embedding_bert = model_bert.encode(text)\n",
        "  return embedding_bert"
      ],
      "metadata": {
        "id": "1IWnfSWg-MlS"
      },
      "execution_count": 103,
      "outputs": []
    },
    {
      "cell_type": "code",
      "source": [
        "def all_books_to_vecs(books):\n",
        "  embedding_bert = np.array(model_bert.encode(books))\n",
        "  return embedding_bert"
      ],
      "metadata": {
        "id": "gUU6wjIy_taY"
      },
      "execution_count": 104,
      "outputs": []
    },
    {
      "cell_type": "code",
      "source": [
        "def reduce_tsne(embedding):\n",
        "    tsne = TSNE(n_components=2)\n",
        "    reduced = tsne.fit_transform( embedding )\n",
        "    \n",
        "    return reduced\n",
        "\n",
        "def predict_topics_with_kmeans(embeddings,num_topics):\n",
        "  kmeans_model = KMeans(num_topics)\n",
        "  kmeans_model.fit(embeddings)\n",
        "  topics_labels = kmeans_model.predict(embeddings)\n",
        "  return topics_labels\n"
      ],
      "metadata": {
        "id": "xEsu_wGM6f00"
      },
      "execution_count": 108,
      "outputs": []
    },
    {
      "cell_type": "code",
      "source": [
        "all_summary_list = df_summary.head(1000)[\"Book-Summary\"].tolist()\n",
        "all_summary_embeddings = all_books_to_vecs(all_summary_list)\n",
        "all_summary_embeddings.shape"
      ],
      "metadata": {
        "id": "QhO1F5n0_opI",
        "outputId": "e7e85da0-a1f0-476f-8de6-fe4829a9967c",
        "colab": {
          "base_uri": "https://localhost:8080/"
        }
      },
      "execution_count": 117,
      "outputs": [
        {
          "output_type": "execute_result",
          "data": {
            "text/plain": [
              "(1000, 768)"
            ]
          },
          "metadata": {},
          "execution_count": 117
        }
      ]
    },
    {
      "cell_type": "code",
      "source": [
        "num_topics = 4\n",
        "embedding_bert_tsne =  reduce_tsne(all_summary_embeddings)\n",
        "labels_bert_tsne  = predict_topics_with_kmeans(embedding_bert_tsne,num_topics)"
      ],
      "metadata": {
        "id": "qchZH-Y7A0rh",
        "outputId": "c437e9b4-3677-452d-a38e-1dd34aab461a",
        "colab": {
          "base_uri": "https://localhost:8080/"
        }
      },
      "execution_count": 118,
      "outputs": [
        {
          "output_type": "stream",
          "name": "stderr",
          "text": [
            "/usr/local/lib/python3.7/dist-packages/sklearn/manifold/_t_sne.py:783: FutureWarning: The default initialization in TSNE will change from 'random' to 'pca' in 1.2.\n",
            "  FutureWarning,\n",
            "/usr/local/lib/python3.7/dist-packages/sklearn/manifold/_t_sne.py:793: FutureWarning: The default learning rate in TSNE will change from 200.0 to 'auto' in 1.2.\n",
            "  FutureWarning,\n"
          ]
        }
      ]
    },
    {
      "cell_type": "code",
      "source": [
        "def plot_embeddings(embedding, labels,title):\n",
        "\n",
        "    labels = np.array( labels )\n",
        "    distinct_labels =  set( labels )\n",
        "    \n",
        "    n = len(embedding)\n",
        "    counter = Counter(labels)\n",
        "    for i in range(len( distinct_labels )):\n",
        "        ratio = (counter[i] / n )* 100\n",
        "        cluster_label = f\"cluster {i}: { round(ratio,2)}\"\n",
        "        x = embedding[:, 0][labels == i]\n",
        "        y = embedding[:, 1][labels == i]\n",
        "        plt.plot(x, y, '.', alpha=0.4, label= cluster_label)\n",
        "    plt.legend(title=\"Topic\",loc = 'upper left', bbox_to_anchor=(1.01,1))\n",
        "    plt.title(title)\n",
        "    \n",
        "plot_embeddings(embedding_bert_tsne,labels_bert_tsne,\"Bert with T-sne\")"
      ],
      "metadata": {
        "id": "V6iGUF1JBZPy",
        "outputId": "b1b32932-032a-4a78-bed2-5c81860984bf",
        "colab": {
          "base_uri": "https://localhost:8080/",
          "height": 281
        }
      },
      "execution_count": 119,
      "outputs": [
        {
          "output_type": "display_data",
          "data": {
            "text/plain": [
              "<Figure size 432x288 with 1 Axes>"
            ],
            "image/png": "[encoded data removed]"
          },
          "metadata": {
            "needs_background": "light"
          }
        }
      ]
    },
    {
      "cell_type": "code",
      "source": [
        "def paragraph_to_vec_1(text): #Extremely slow\n",
        "  text_segments = wrap(text, 510)\n",
        "  paragraph_vec = []\n",
        "  for text_segment in text_segments:\n",
        "    tokenized_text, tokens_tensor, segments_tensors = tokenize_text(text_segment)\n",
        "    outputs = model(tokens_tensor, segments_tensors)\n",
        "    hidden_states = outputs[2]\n",
        "    token_vecs = hidden_states[-2][0]\n",
        "    sentence_embedding = torch.mean(token_vecs, dim=0)\n",
        "    for token_vec in token_vecs:\n",
        "      paragraph_vec.append(token_vec.detach().numpy().squeeze())\n",
        "    #print(token_vecs.shape)\n",
        "  print(len(paragraph_vec), len(paragraph_vec[0]))\n",
        "\n",
        "  return paragraph_vec"
      ],
      "metadata": {
        "id": "M-BlCafhNza5"
      },
      "execution_count": 76,
      "outputs": []
    },
    {
      "cell_type": "code",
      "source": [
        "text= 'With probability 0.5, sentence A and sentence B correspond to two consecutive sentences in the original corpus'\n",
        "text_vec = paragraph_to_vec(text)\n",
        "text_vec.shape, text_vec"
      ],
      "metadata": {
        "id": "IxpJdQLKOUt7",
        "outputId": "a5e9633b-bc9c-49f5-aa7d-a4b269a19a95",
        "colab": {
          "base_uri": "https://localhost:8080/"
        }
      },
      "execution_count": 12,
      "outputs": [
        {
          "output_type": "execute_result",
          "data": {
            "text/plain": [
              "(torch.Size([22, 768]),\n",
              " tensor([[-0.4069, -0.7221, -0.0961,  ..., -0.2900,  0.1349,  1.0193],\n",
              "         [-0.5965,  0.3097,  0.1628,  ..., -1.1278, -0.4784,  0.6773],\n",
              "         [ 0.6815, -0.4608,  0.3712,  ..., -0.2719,  0.4671, -0.0047],\n",
              "         ...,\n",
              "         [ 0.0075, -0.7058, -0.0161,  ..., -0.2170,  0.4222,  0.2408],\n",
              "         [-0.9343, -1.0692, -0.4720,  ...,  0.3368,  0.4610,  0.4058],\n",
              "         [ 0.0541,  0.0045, -0.0298,  ...,  0.0214, -0.0353,  0.0209]],\n",
              "        grad_fn=<SelectBackward0>))"
            ]
          },
          "metadata": {},
          "execution_count": 12
        }
      ]
    },
    {
      "cell_type": "code",
      "source": [],
      "metadata": {
        "id": "0X029VUlAp-r"
      },
      "execution_count": null,
      "outputs": []
    },
    {
      "cell_type": "code",
      "source": [
        "\n",
        "for index, row in df_summary.head(10).iterrows():\n",
        "  text = row['Book-Summary']\n",
        "  text_vec = paragraph_to_vec_2(text)\n",
        "\n",
        "  #print(text_vec[0])\n",
        "  #text_segment_len = [len(segment) for segment in text_segments]\n",
        "  #print(text_segment_len)\n",
        "  #print(len(text_vec))"
      ],
      "metadata": {
        "id": "CzYWuldgo2wX"
      },
      "execution_count": 95,
      "outputs": []
    },
    {
      "cell_type": "code",
      "source": [
        "for index, row in df_summary.head(3).iterrows():\n",
        "  text = row['Book-Summary']\n",
        "  #text_vec = paragraph_to_vec(text)\n",
        "  text_segments = wrap(text, 510)\n",
        "  text_segment_len = [len(segment) for segment in text_segments]\n",
        "  print(len(text_segment_len), text_segment_len)\n",
        "  #print(len(text_vec))"
      ],
      "metadata": {
        "id": "LhxLjbJ1uYwb",
        "outputId": "f309dc0d-cec9-467f-f796-17c876f57779",
        "colab": {
          "base_uri": "https://localhost:8080/"
        }
      },
      "execution_count": 35,
      "outputs": [
        {
          "output_type": "stream",
          "name": "stdout",
          "text": [
            "13 [506, 507, 508, 502, 507, 510, 509, 507, 509, 510, 509, 510, 15]\n",
            "13 [506, 507, 508, 502, 507, 510, 509, 507, 509, 510, 509, 510, 15]\n",
            "13 [506, 507, 508, 502, 507, 510, 509, 507, 509, 510, 509, 510, 15]\n"
          ]
        }
      ]
    }
  ],
  "metadata": {
    "kernelspec": {
      "display_name": "Python 3.9.12 ('base')",
      "language": "python",
      "name": "python3"
    },
    "language_info": {
      "codemirror_mode": {
        "name": "ipython",
        "version": 3
      },
      "file_extension": ".py",
      "mimetype": "text/x-python",
      "name": "python",
      "nbconvert_exporter": "python",
      "pygments_lexer": "ipython3",
      "version": "3.9.12"
    },
    "orig_nbformat": 4,
    "vscode": {
      "interpreter": {
        "hash": "5408dd9dcda8bbc748e49d93e20ef6440144c75d5dd45e227664b4321f99aa74"
      }
    },
    "colab": {
      "provenance": []
    },
    "accelerator": "GPU",
    "gpuClass": "standard"
  },
  "nbformat": 4,
  "nbformat_minor": 0
}